{
 "cells": [
  {
   "cell_type": "markdown",
   "metadata": {
    "ExecuteTime": {
     "end_time": "2021-04-20T09:52:36.466592Z",
     "start_time": "2021-04-20T09:52:36.461558Z"
    }
   },
   "source": [
    "#  BLEU Variants"
   ]
  },
  {
   "cell_type": "markdown",
   "metadata": {},
   "source": [
    "The experiment should be ran in nltk 3.2.4"
   ]
  },
  {
   "cell_type": "code",
   "execution_count": null,
   "metadata": {
    "ExecuteTime": {
     "end_time": "2021-04-26T05:02:49.756751Z",
     "start_time": "2021-04-26T05:02:48.265842Z"
    }
   },
   "outputs": [],
   "source": [
    "!pip install nltk==3.2.4"
   ]
  },
  {
   "cell_type": "markdown",
   "metadata": {},
   "source": [
    "## utils function"
   ]
  },
  {
   "cell_type": "code",
   "execution_count": 1,
   "metadata": {
    "ExecuteTime": {
     "end_time": "2021-04-26T05:10:17.554883Z",
     "start_time": "2021-04-26T05:10:16.916298Z"
    },
    "pycharm": {
     "name": "#%%\n"
    }
   },
   "outputs": [],
   "source": [
    "import sys\n",
    "sys.path.append(\"../..\")\n",
    "sys.path.append(\"../../metrics\")\n",
    "from metrics.evaluate import read_to_list,bleus"
   ]
  },
  {
   "cell_type": "code",
   "execution_count": 11,
   "metadata": {
    "ExecuteTime": {
     "end_time": "2021-04-26T05:12:06.213689Z",
     "start_time": "2021-04-26T05:12:06.205610Z"
    },
    "pycharm": {
     "name": "#%%\n"
    }
   },
   "outputs": [],
   "source": [
    "import prettytable as pt\n",
    "def get_differen_bleu(data_dir,refs_filename ,SOTA = 0):\n",
    "#     refs_filename = os.path.join(data_dir, approaches[SOTA], \"test.gold\")\n",
    "    preds_filename = os.path.join(data_dir, approaches[SOTA], \"test.pred\")\n",
    "    preds = read_to_list(preds_filename)\n",
    "    refs = read_to_list(refs_filename)\n",
    "    refs = [[t] for t in refs[:len( preds)]]\n",
    "    result = bleus(refs, preds)\n",
    "    all_bleu = {key:round(value, 2) for key, value in result.items()}\n",
    "    tb = pt.PrettyTable()\n",
    "    tb.field_names = all_bleu.keys()\n",
    "    tb.add_row(all_bleu.values())\n",
    "    print(tb)\n"
   ]
  },
  {
   "cell_type": "markdown",
   "metadata": {},
   "source": [
    "## $TLC$"
   ]
  },
  {
   "cell_type": "code",
   "execution_count": 3,
   "metadata": {
    "ExecuteTime": {
     "end_time": "2021-04-26T05:10:17.565024Z",
     "start_time": "2021-04-26T05:10:17.562635Z"
    }
   },
   "outputs": [],
   "source": [
    "import os\n",
    "data_dir_tlc = \"TLC\"\n",
    "refs_filename = os.path.join(data_dir_tlc,\"test.gold\")"
   ]
  },
  {
   "cell_type": "code",
   "execution_count": 4,
   "metadata": {
    "ExecuteTime": {
     "end_time": "2021-04-26T05:10:17.569183Z",
     "start_time": "2021-04-26T05:10:17.566553Z"
    }
   },
   "outputs": [],
   "source": [
    "approaches = [\"codenn\", \"deepcom\", \"astattgru\", \"rencos\", \"ncs\" ]"
   ]
  },
  {
   "cell_type": "code",
   "execution_count": 5,
   "metadata": {
    "ExecuteTime": {
     "end_time": "2021-04-26T05:10:17.579394Z",
     "start_time": "2021-04-26T05:10:17.570555Z"
    }
   },
   "outputs": [
    {
     "data": {
      "text/plain": [
       "'TLC/test.gold'"
      ]
     },
     "execution_count": 5,
     "metadata": {},
     "output_type": "execute_result"
    }
   ],
   "source": [
    "refs_filename"
   ]
  },
  {
   "cell_type": "markdown",
   "metadata": {},
   "source": [
    "### CodeNN"
   ]
  },
  {
   "cell_type": "code",
   "execution_count": 6,
   "metadata": {
    "ExecuteTime": {
     "end_time": "2021-04-26T05:10:26.110010Z",
     "start_time": "2021-04-26T05:10:17.580777Z"
    },
    "pycharm": {
     "name": "#%%\n"
    }
   },
   "outputs": [
    {
     "name": "stdout",
     "output_type": "stream",
     "text": [
      "+-----------+---------+---------+---------+----------+---------+\n",
      "| BLEU-DCOM | BLEU-FC | BLEU-DC | BLEU-CN | BLEU-NCS | BLEU-RC |\n",
      "+-----------+---------+---------+---------+----------+---------+\n",
      "|   51.98   |  26.04  |   36.5  |  33.07  |  33.78   |  26.32  |\n",
      "+-----------+---------+---------+---------+----------+---------+\n"
     ]
    }
   ],
   "source": [
    " get_differen_bleu(data_dir_tlc,refs_filename ,SOTA = 0)"
   ]
  },
  {
   "cell_type": "markdown",
   "metadata": {},
   "source": [
    "### Deepcom"
   ]
  },
  {
   "cell_type": "code",
   "execution_count": 7,
   "metadata": {
    "ExecuteTime": {
     "end_time": "2021-04-26T05:10:34.492634Z",
     "start_time": "2021-04-26T05:10:26.111482Z"
    },
    "pycharm": {
     "name": "#%%\n"
    }
   },
   "outputs": [
    {
     "name": "stdout",
     "output_type": "stream",
     "text": [
      "+-----------+---------+---------+---------+----------+---------+\n",
      "| BLEU-DCOM | BLEU-FC | BLEU-DC | BLEU-CN | BLEU-NCS | BLEU-RC |\n",
      "+-----------+---------+---------+---------+----------+---------+\n",
      "|   40.18   |  12.14  |  24.46  |  21.18  |  22.26   |  13.74  |\n",
      "+-----------+---------+---------+---------+----------+---------+\n"
     ]
    }
   ],
   "source": [
    " get_differen_bleu(data_dir_tlc,refs_filename , SOTA = 1)"
   ]
  },
  {
   "cell_type": "markdown",
   "metadata": {},
   "source": [
    "### Astattngru"
   ]
  },
  {
   "cell_type": "code",
   "execution_count": 8,
   "metadata": {
    "ExecuteTime": {
     "end_time": "2021-04-26T05:10:43.236571Z",
     "start_time": "2021-04-26T05:10:34.495148Z"
    },
    "pycharm": {
     "name": "#%%\n"
    }
   },
   "outputs": [
    {
     "name": "stdout",
     "output_type": "stream",
     "text": [
      "+-----------+---------+---------+---------+----------+---------+\n",
      "| BLEU-DCOM | BLEU-FC | BLEU-DC | BLEU-CN | BLEU-NCS | BLEU-RC |\n",
      "+-----------+---------+---------+---------+----------+---------+\n",
      "|   50.87   |  27.11  |  35.77  |  31.98  |  32.64   |  25.87  |\n",
      "+-----------+---------+---------+---------+----------+---------+\n"
     ]
    }
   ],
   "source": [
    " get_differen_bleu(data_dir_tlc,refs_filename , SOTA = 2)"
   ]
  },
  {
   "cell_type": "markdown",
   "metadata": {},
   "source": [
    "### Rencos"
   ]
  },
  {
   "cell_type": "code",
   "execution_count": 9,
   "metadata": {
    "ExecuteTime": {
     "end_time": "2021-04-26T05:10:51.424059Z",
     "start_time": "2021-04-26T05:10:43.238118Z"
    },
    "pycharm": {
     "name": "#%%\n"
    }
   },
   "outputs": [
    {
     "name": "stdout",
     "output_type": "stream",
     "text": [
      "+-----------+---------+---------+---------+----------+---------+\n",
      "| BLEU-DCOM | BLEU-FC | BLEU-DC | BLEU-CN | BLEU-NCS | BLEU-RC |\n",
      "+-----------+---------+---------+---------+----------+---------+\n",
      "|   58.64   |  41.01  |  47.78  |  46.75  |  47.17   |  40.39  |\n",
      "+-----------+---------+---------+---------+----------+---------+\n"
     ]
    }
   ],
   "source": [
    " get_differen_bleu(data_dir_tlc,refs_filename , SOTA = 3)"
   ]
  },
  {
   "cell_type": "markdown",
   "metadata": {},
   "source": [
    "### NeuralCodeSum"
   ]
  },
  {
   "cell_type": "code",
   "execution_count": 12,
   "metadata": {
    "ExecuteTime": {
     "end_time": "2021-04-26T05:12:17.694353Z",
     "start_time": "2021-04-26T05:12:09.777730Z"
    },
    "pycharm": {
     "name": "#%%\n"
    }
   },
   "outputs": [
    {
     "name": "stdout",
     "output_type": "stream",
     "text": [
      "+-----------+---------+---------+---------+----------+---------+\n",
      "| BLEU-DCOM | BLEU-FC | BLEU-DC | BLEU-CN | BLEU-NCS | BLEU-RC |\n",
      "+-----------+---------+---------+---------+----------+---------+\n",
      "|   57.08   |  36.89  |  45.97  |  45.19  |  45.51   |  38.37  |\n",
      "+-----------+---------+---------+---------+----------+---------+\n"
     ]
    }
   ],
   "source": [
    " get_differen_bleu(data_dir_tlc,refs_filename , SOTA = 4)"
   ]
  },
  {
   "cell_type": "markdown",
   "metadata": {},
   "source": [
    "## $TLC_{Dedup}$"
   ]
  },
  {
   "cell_type": "code",
   "execution_count": 13,
   "metadata": {
    "ExecuteTime": {
     "end_time": "2021-04-26T05:13:18.097130Z",
     "start_time": "2021-04-26T05:13:18.093134Z"
    }
   },
   "outputs": [],
   "source": [
    "data_dir_tlc_dedup = \"TLC_dedup\"\n",
    "refs_filename = os.path.join(data_dir_tlc_dedup,\"test.gold\")"
   ]
  },
  {
   "cell_type": "markdown",
   "metadata": {},
   "source": [
    "### Codenn"
   ]
  },
  {
   "cell_type": "code",
   "execution_count": 14,
   "metadata": {
    "ExecuteTime": {
     "end_time": "2021-04-26T05:13:24.266571Z",
     "start_time": "2021-04-26T05:13:18.099979Z"
    },
    "pycharm": {
     "name": "#%%\n"
    }
   },
   "outputs": [
    {
     "name": "stdout",
     "output_type": "stream",
     "text": [
      "+-----------+---------+---------+---------+----------+---------+\n",
      "| BLEU-DCOM | BLEU-FC | BLEU-DC | BLEU-CN | BLEU-NCS | BLEU-RC |\n",
      "+-----------+---------+---------+---------+----------+---------+\n",
      "|   40.95   |   8.9   |  20.51  |  15.64  |  16.59   |   7.24  |\n",
      "+-----------+---------+---------+---------+----------+---------+\n"
     ]
    }
   ],
   "source": [
    "get_differen_bleu(data_dir_tlc_dedup, refs_filename ,SOTA = 0)"
   ]
  },
  {
   "cell_type": "markdown",
   "metadata": {},
   "source": [
    "### Deepcom"
   ]
  },
  {
   "cell_type": "code",
   "execution_count": 15,
   "metadata": {
    "ExecuteTime": {
     "end_time": "2021-04-26T05:13:30.537818Z",
     "start_time": "2021-04-26T05:13:24.268542Z"
    },
    "pycharm": {
     "name": "#%%\n"
    }
   },
   "outputs": [
    {
     "name": "stdout",
     "output_type": "stream",
     "text": [
      "+-----------+---------+---------+---------+----------+---------+\n",
      "| BLEU-DCOM | BLEU-FC | BLEU-DC | BLEU-CN | BLEU-NCS | BLEU-RC |\n",
      "+-----------+---------+---------+---------+----------+---------+\n",
      "|   34.81   |   4.03  |  15.87  |  11.26  |  12.68   |   3.51  |\n",
      "+-----------+---------+---------+---------+----------+---------+\n"
     ]
    }
   ],
   "source": [
    "get_differen_bleu(data_dir_tlc_dedup,refs_filename ,SOTA = 1)"
   ]
  },
  {
   "cell_type": "markdown",
   "metadata": {},
   "source": [
    "### Astattngru"
   ]
  },
  {
   "cell_type": "code",
   "execution_count": 16,
   "metadata": {
    "ExecuteTime": {
     "end_time": "2021-04-26T05:13:36.959032Z",
     "start_time": "2021-04-26T05:13:30.539650Z"
    },
    "pycharm": {
     "name": "#%%\n"
    }
   },
   "outputs": [
    {
     "name": "stdout",
     "output_type": "stream",
     "text": [
      "+-----------+---------+---------+---------+----------+---------+\n",
      "| BLEU-DCOM | BLEU-FC | BLEU-DC | BLEU-CN | BLEU-NCS | BLEU-RC |\n",
      "+-----------+---------+---------+---------+----------+---------+\n",
      "|   38.41   |   7.5   |  18.51  |  13.35  |  14.24   |   5.53  |\n",
      "+-----------+---------+---------+---------+----------+---------+\n"
     ]
    }
   ],
   "source": [
    "get_differen_bleu(data_dir_tlc_dedup,refs_filename , SOTA = 2)"
   ]
  },
  {
   "cell_type": "markdown",
   "metadata": {},
   "source": [
    "### Rencos"
   ]
  },
  {
   "cell_type": "code",
   "execution_count": 17,
   "metadata": {
    "ExecuteTime": {
     "end_time": "2021-04-26T05:13:42.860665Z",
     "start_time": "2021-04-26T05:13:36.960658Z"
    },
    "pycharm": {
     "name": "#%%\n"
    }
   },
   "outputs": [
    {
     "name": "stdout",
     "output_type": "stream",
     "text": [
      "+-----------+---------+---------+---------+----------+---------+\n",
      "| BLEU-DCOM | BLEU-FC | BLEU-DC | BLEU-CN | BLEU-NCS | BLEU-RC |\n",
      "+-----------+---------+---------+---------+----------+---------+\n",
      "|   45.69   |  22.98  |  31.22  |  29.81  |  30.37   |  21.39  |\n",
      "+-----------+---------+---------+---------+----------+---------+\n"
     ]
    }
   ],
   "source": [
    "get_differen_bleu(data_dir_tlc_dedup,refs_filename , SOTA = 3)"
   ]
  },
  {
   "cell_type": "markdown",
   "metadata": {},
   "source": [
    "### NCS"
   ]
  },
  {
   "cell_type": "code",
   "execution_count": 18,
   "metadata": {
    "ExecuteTime": {
     "end_time": "2021-04-26T05:13:48.336996Z",
     "start_time": "2021-04-26T05:13:42.862209Z"
    },
    "pycharm": {
     "name": "#%%\n"
    }
   },
   "outputs": [
    {
     "name": "stdout",
     "output_type": "stream",
     "text": [
      "+-----------+---------+---------+---------+----------+---------+\n",
      "| BLEU-DCOM | BLEU-FC | BLEU-DC | BLEU-CN | BLEU-NCS | BLEU-RC |\n",
      "+-----------+---------+---------+---------+----------+---------+\n",
      "|   43.91   |  18.37  |  29.07  |  27.99  |  28.42   |  18.94  |\n",
      "+-----------+---------+---------+---------+----------+---------+\n"
     ]
    }
   ],
   "source": [
    "get_differen_bleu(data_dir_tlc_dedup,refs_filename , SOTA = 4)"
   ]
  },
  {
   "cell_type": "markdown",
   "metadata": {},
   "source": [
    "# Smoothing function"
   ]
  },
  {
   "cell_type": "code",
   "execution_count": 19,
   "metadata": {
    "ExecuteTime": {
     "end_time": "2021-04-26T05:13:48.569625Z",
     "start_time": "2021-04-26T05:13:48.338616Z"
    }
   },
   "outputs": [],
   "source": [
    "import matplotlib.pyplot as plt\n",
    "import numpy as np\n",
    "import math"
   ]
  },
  {
   "cell_type": "code",
   "execution_count": 20,
   "metadata": {
    "ExecuteTime": {
     "end_time": "2021-04-26T05:13:49.033959Z",
     "start_time": "2021-04-26T05:13:48.571721Z"
    }
   },
   "outputs": [
    {
     "data": {
      "text/plain": [
       "Text(0, 0.5, '$P_n$')"
      ]
     },
     "execution_count": 20,
     "metadata": {},
     "output_type": "execute_result"
    },
    {
     "data": {
      "image/png": "[encoded data removed]",
      "text/plain": [
       "<Figure size 432x216 with 1 Axes>"
      ]
     },
     "metadata": {
      "needs_background": "light"
     },
     "output_type": "display_data"
    }
   ],
   "source": [
    "fontsize=12\n",
    "max_x = 50+1\n",
    "x = np.arange(2, max_x, 1)\n",
    "epsilon = 0.1\n",
    "y0= [0]*len(x)\n",
    "y1 =[ (0.1)/x1*100 for x1 in x] \n",
    "y2 =[ 1/x1*100 for x1 in x] \n",
    "y3 =[ 1/(2**1)/x1*100 for x1 in x] \n",
    "y4 =[(1/(2*5/(math.log(x1))))/x1*100 for x1 in x] \n",
    "plt.figure(figsize=(6,3))\n",
    "linewidth=2.5\n",
    "plt.plot(x, y0, label='$No Smooth$', linewidth=linewidth)\n",
    "plt.plot(x, y1, label='$Method_1$', linewidth=linewidth)\n",
    "plt.plot(x, y2, label='$Method_2$', linewidth=linewidth)\n",
    "plt.plot(x, y3, label='$Method_3$', linewidth=linewidth)\n",
    "plt.plot(x, y4, label='$Method_4$',c='b', linewidth=linewidth)\n",
    "plt.xticks(np.arange(0, max_x,5),fontsize=fontsize)\n",
    "plt.yticks(np.arange(0, max_x,10),fontsize=fontsize)\n",
    "plt.title(\"Different Smoothing Method\",fontsize=fontsize)\n",
    "plt.xlabel(\"The length of generated sentence\", fontsize=fontsize)\n",
    "plt.legend(fontsize=fontsize)\n",
    "plt.ylabel(\"$P_n$\", fontsize=fontsize)"
   ]
  },
  {
   "cell_type": "code",
   "execution_count": 21,
   "metadata": {
    "ExecuteTime": {
     "end_time": "2021-04-26T05:13:49.264211Z",
     "start_time": "2021-04-26T05:13:49.035377Z"
    }
   },
   "outputs": [
    {
     "data": {
      "text/plain": [
       "Text(0, 0.5, '$P_n$')"
      ]
     },
     "execution_count": 21,
     "metadata": {},
     "output_type": "execute_result"
    },
    {
     "data": {
      "image/png": "[encoded data removed]",
      "text/plain": [
       "<Figure size 432x216 with 1 Axes>"
      ]
     },
     "metadata": {
      "needs_background": "light"
     },
     "output_type": "display_data"
    }
   ],
   "source": [
    "max_x =51\n",
    "x = np.arange(2, max_x, 1)\n",
    "epsilon = 0.1\n",
    "fontsize=12\n",
    "y4 =[(1/(2*5/(math.log(x1))))/x1*100 for x1 in x] \n",
    "y4_nltk_3_5 =[ (3+5/(math.log(x1)))/x1*100 for x1 in x] \n",
    "y4_nltk_3_2 =[ 1/(3+5/(math.log(x1)))*100 for x1 in x] \n",
    "plt.figure(figsize=(6,3))\n",
    "plt.title(\"Different Implementation of Method4 \", fontsize=fontsize)\n",
    "plt.plot(x, y4, label='$Correct$',c=\"b\", linewidth=linewidth)\n",
    "plt.plot(x, y4_nltk_3_2, label='$NLTK_{3.2.x}$', linewidth=linewidth)\n",
    "plt.plot(x, y4_nltk_3_5, label='$NLTK_{3.5.x}$', linewidth=linewidth)\n",
    "plt.xticks(np.arange(0, max_x,5),fontsize=fontsize)\n",
    "plt.yticks(np.arange(0, 201,20),fontsize=fontsize)\n",
    "\n",
    "plt.ylim(0,120)\n",
    "plt.xlabel(\"The length of generated sentence\\n\", fontsize=fontsize)\n",
    "i = 0\n",
    "\n",
    "plt.legend(fontsize=fontsize)\n",
    "plt.ylabel(\"$P_n$\", fontsize=fontsize)"
   ]
  },
  {
   "cell_type": "code",
   "execution_count": null,
   "metadata": {},
   "outputs": [],
   "source": [
    "## Huamn evaluation"
   ]
  }
 ],
 "metadata": {
  "kernelspec": {
   "display_name": "Python 3",
   "language": "python",
   "name": "python3"
  },
  "language_info": {
   "codemirror_mode": {
    "name": "ipython",
    "version": 3
   },
   "file_extension": ".py",
   "mimetype": "text/x-python",
   "name": "python",
   "nbconvert_exporter": "python",
   "pygments_lexer": "ipython3",
   "version": "3.8.8"
  },
  "toc": {
   "base_numbering": 1,
   "nav_menu": {},
   "number_sections": true,
   "sideBar": true,
   "skip_h1_title": false,
   "title_cell": "Table of Contents",
   "title_sidebar": "Contents",
   "toc_cell": false,
   "toc_position": {},
   "toc_section_display": true,
   "toc_window_display": true
  }
 },
 "nbformat": 4,
 "nbformat_minor": 1
}
