{
 "cells": [
  {
   "cell_type": "markdown",
   "metadata": {},
   "source": [
    "## Note\n",
    "As other nltk versions exist some bugs in calculating bleu, the the experiment should be ran in nltk 3.6.1 "
   ]
  },
  {
   "cell_type": "code",
   "execution_count": 1,
   "metadata": {
    "ExecuteTime": {
     "end_time": "2021-11-13T09:03:10.349329Z",
     "start_time": "2021-11-13T09:03:07.833495Z"
    },
    "scrolled": true
   },
   "outputs": [
    {
     "name": "stdout",
     "output_type": "stream",
     "text": [
      "^C\n"
     ]
    }
   ],
   "source": [
    "!pip install nltk==3.6.1"
   ]
  },
  {
   "cell_type": "markdown",
   "metadata": {
    "ExecuteTime": {
     "end_time": "2021-04-21T02:33:08.873978Z",
     "start_time": "2021-04-21T02:33:08.869045Z"
    }
   },
   "source": [
    "##  util\n"
   ]
  },
  {
   "cell_type": "code",
   "execution_count": 1,
   "metadata": {
    "ExecuteTime": {
     "end_time": "2021-11-13T14:04:40.473931Z",
     "start_time": "2021-11-13T14:04:38.846694Z"
    }
   },
   "outputs": [],
   "source": [
    "import sys\n",
    "sys.path.append(\"../..\")\n",
    "sys.path.append(\"../../metrics\")\n",
    "from metrics.evaluate import read_to_list\n",
    "from bleu.codenn_bleu import codenn_smooth_bleu\n",
    "from bleu.google_bleu import compute_bleu\n",
    "from bleu.rencos_bleu import Bleu as recos_bleu\n",
    "import prettytable as pt\n",
    "import numpy as np\n",
    "import os"
   ]
  },
  {
   "cell_type": "code",
   "execution_count": 2,
   "metadata": {
    "ExecuteTime": {
     "end_time": "2021-11-13T14:04:40.488799Z",
     "start_time": "2021-11-13T14:04:40.475798Z"
    }
   },
   "outputs": [],
   "source": [
    "\n",
    "def get_mean_std(arr):\n",
    "    arr_mean = np.mean(arr)\n",
    "    arr_std = np.std(arr, ddof=1)\n",
    "    return arr_mean ,  arr_std\n",
    "def show_dict(all_bleu):\n",
    "        tb = pt.PrettyTable()\n",
    "        tb.field_names = all_bleu.keys()\n",
    "        tb.add_row(all_bleu.values())\n",
    "        print(tb)"
   ]
  },
  {
   "cell_type": "code",
   "execution_count": 3,
   "metadata": {
    "ExecuteTime": {
     "end_time": "2021-11-13T14:04:40.503793Z",
     "start_time": "2021-11-13T14:04:40.490824Z"
    }
   },
   "outputs": [],
   "source": [
    "import nltk\n",
    "from nltk.translate.bleu_score import sentence_bleu, corpus_bleu, SmoothingFunction"
   ]
  },
  {
   "cell_type": "code",
   "execution_count": 4,
   "metadata": {
    "ExecuteTime": {
     "end_time": "2021-11-13T14:04:40.518827Z",
     "start_time": "2021-11-13T14:04:40.506809Z"
    }
   },
   "outputs": [],
   "source": [
    "def get_codenn_score(refs, preds):\n",
    "    r_str_list = []\n",
    "    p_str_list = []\n",
    "    for r, p in zip(refs, preds):\n",
    "        if len(r[0]) == 0 or len(p) == 0:\n",
    "            continue\n",
    "        r_str_list.append([\" \".join([str(token_id) for token_id in r[0]])])\n",
    "        p_str_list.append(\" \".join([str(token_id) for token_id in p]))\n",
    "    try:\n",
    "        bleu_list = codenn_smooth_bleu(r_str_list, p_str_list)\n",
    "    except:\n",
    "        bleu_list = [0, 0, 0, 0]\n",
    "    codenn_bleu = bleu_list[0]\n",
    "    codenn_bleu = round(codenn_bleu,4)\n",
    "    return codenn_bleu"
   ]
  },
  {
   "cell_type": "code",
   "execution_count": 5,
   "metadata": {
    "ExecuteTime": {
     "end_time": "2021-11-13T14:04:40.533794Z",
     "start_time": "2021-11-13T14:04:40.520796Z"
    }
   },
   "outputs": [],
   "source": [
    "def get_bleu_cn(refs,preds):\n",
    "    r_str_list = []\n",
    "    p_str_list = []\n",
    "    for r, p in zip(refs, preds):\n",
    "        if len(r[0]) == 0 or len(p) == 0:\n",
    "            continue\n",
    "        r_str_list.append([\" \".join([str(token_id) for token_id in r[0]])])\n",
    "        p_str_list.append(\" \".join([str(token_id) for token_id in p]))\n",
    "    try:\n",
    "        bleu_list = codenn_smooth_bleu(r_str_list, p_str_list)\n",
    "    except:\n",
    "        bleu_list = [0, 0, 0, 0]\n",
    "    codenn_bleu = bleu_list[0]\n",
    "    codenn_bleu = round(codenn_bleu,4)\n",
    "    return codenn_bleu\n",
    "def get_bleu_dc(refs,preds):\n",
    "    all_score = 0.0\n",
    "    count = 0\n",
    "    for r, p in zip(refs, preds):\n",
    "        # nltk bug: https://github.com/nltk/nltk/issues/2204\n",
    "        if len(p) == 1:\n",
    "            continue\n",
    "        score = nltk.translate.bleu(r, p, smoothing_function=SmoothingFunction().method4)\n",
    "        all_score += score\n",
    "        count += 1\n",
    "    emse_bleu = round(all_score / count * 100, 4)\n",
    "    return emse_bleu"
   ]
  },
  {
   "cell_type": "code",
   "execution_count": 6,
   "metadata": {
    "ExecuteTime": {
     "end_time": "2021-11-13T14:04:40.548813Z",
     "start_time": "2021-11-13T14:04:40.534793Z"
    }
   },
   "outputs": [],
   "source": [
    "from scipy import stats\n",
    "\n",
    "\n",
    "def wilcoxon_signed_rank_test(y1, y2):\n",
    "    statistic, pvalue = stats.wilcoxon(y1, y2)\n",
    "    return pvalue\n",
    "\n",
    "\n",
    "def get_score(r0, r1):\n",
    "#     pvalue = wilcoxon_signed_rank_test(y1, y2)\n",
    "    _, p_val_t_test = stats.ttest_ind(r0, r1, equal_var=False)\n",
    "    _, p_val_wwu_test = stats.mannwhitneyu(r0, r1, alternative='two-sided') \n",
    "    return p_val_t_test, p_val_wwu_test\n",
    "\n",
    "\n",
    "def get_pvalue_and_effect_size(all_score):\n",
    "    models_name = list(all_score)\n",
    "    for i in range(len(models_name)):\n",
    "        for j in range(i + 1, len(models_name)):\n",
    "            pvalue = get_score(all_score[models_name[i]], all_score[models_name[j]])\n",
    "            print(\"{} and {}, t-test:pvalue is {}, WMW-test: pvalue is {}\".format(models_name[i], models_name[j], pvalue[0], pvalue[1]))"
   ]
  },
  {
   "cell_type": "code",
   "execution_count": 7,
   "metadata": {
    "ExecuteTime": {
     "end_time": "2021-11-13T14:04:40.578795Z",
     "start_time": "2021-11-13T14:04:40.550805Z"
    }
   },
   "outputs": [],
   "source": [
    "def get_all_datset_result(approaches , diff_datasets,get_bleu_score):\n",
    "#     scores = {}\n",
    "    scores_p_test = {}\n",
    "    for approach in approaches:\n",
    "        scores_diff_dataset = {}\n",
    "        latex_diff_dataset = {}\n",
    "        for diff_dataset in diff_datasets:\n",
    "            average_score = [] \n",
    "            for random_seed in range(3):\n",
    "                refs_filename = os.path.join(diff_dataset, \"test.gold\")\n",
    "                if  diff_dataset in [\"FCM\",\"FCM_project_large\"]:\n",
    "                    refs_filename = os.path.join(diff_dataset,approach, \"test.gold\")\n",
    "                preds_filename = os.path.join(diff_dataset,approach, \"random%s\"%random_seed, \"test.pred\")\n",
    "                preds = read_to_list(preds_filename)\n",
    "                refs = read_to_list(refs_filename)\n",
    "                refs = [[t] for t in refs[:len(preds)]]\n",
    "                bleu_s = get_bleu_score(refs, preds)\n",
    "                average_score.append(bleu_s)\n",
    "                if diff_dataset in list(scores_p_test):\n",
    "                    scores_p_test[diff_dataset].append(bleu_s)\n",
    "                else:\n",
    "                    scores_p_test[diff_dataset] = [bleu_s]\n",
    "            mean, std_var = get_mean_std(average_score)\n",
    "            scores_diff_dataset[diff_dataset] = \"%.2f+-%.2f\"%(mean, std_var)\n",
    "            latex_diff_dataset[diff_dataset] = \"&%.2f$\\pm$%.2f\"%(mean, std_var)\n",
    "#         scores[diff_dataset] = scores_diff_dataset\n",
    "        print(15*\"*\"+approach+15*\"*\")\n",
    "#         print(approach)\n",
    "#         print(average_score)\n",
    "        \n",
    "        show_dict(scores_diff_dataset)\n",
    "    print(\"-------------Significant Testing---------------\")\n",
    "#     print(scores_p_test)\n",
    "    if len(scores_p_test) >3:\n",
    "        get_pvalue_and_effect_size(dict(list(scores_p_test.items())[:3]))\n",
    "        get_pvalue_and_effect_size(dict(list(scores_p_test.items())[3:]))\n",
    "    else:\n",
    "        get_pvalue_and_effect_size(scores_p_test)\n",
    "#         show_dict(latex_diff_dataset)\n",
    "#         print(\" \".join(list(latex_diff_dataset.values())))\n",
    "#     save_pickle_data(\"./\", save_score_filename, scores)"
   ]
  },
  {
   "cell_type": "markdown",
   "metadata": {},
   "source": [
    "## Performance in Different Dtaset: TCL FCM CSN"
   ]
  },
  {
   "cell_type": "code",
   "execution_count": 8,
   "metadata": {
    "ExecuteTime": {
     "end_time": "2021-11-13T14:04:45.359035Z",
     "start_time": "2021-11-13T14:04:45.346031Z"
    }
   },
   "outputs": [],
   "source": [
    "diff_datasets = [\"TLC\" ,\"FCM\", \"CSN\"]\n",
    "approaches = [\"codenn\",\"deepcom\", \"astattgru\", \"rencos\", \"ncs\" ]"
   ]
  },
  {
   "cell_type": "code",
   "execution_count": 9,
   "metadata": {
    "ExecuteTime": {
     "end_time": "2021-11-13T09:06:11.787936Z",
     "start_time": "2021-11-13T09:03:23.332186Z"
    },
    "scrolled": false
   },
   "outputs": [
    {
     "name": "stdout",
     "output_type": "stream",
     "text": [
      "***************codenn***************\n",
      "+-------------+-------------+------------+\n",
      "|     TLC     |     FCM     |    CSN     |\n",
      "+-------------+-------------+------------+\n",
      "| 28.24+-0.19 | 12.64+-0.13 | 3.32+-0.09 |\n",
      "+-------------+-------------+------------+\n",
      "***************deepcom***************\n",
      "+-------------+------------+------------+\n",
      "|     TLC     |    FCM     |    CSN     |\n",
      "+-------------+------------+------------+\n",
      "| 15.65+-2.12 | 9.12+-0.03 | 1.98+-0.30 |\n",
      "+-------------+------------+------------+\n",
      "***************astattgru***************\n",
      "+-------------+-------------+------------+\n",
      "|     TLC     |     FCM     |    CSN     |\n",
      "+-------------+-------------+------------+\n",
      "| 25.90+-0.79 | 15.58+-0.11 | 5.01+-0.27 |\n",
      "+-------------+-------------+------------+\n",
      "***************rencos***************\n",
      "+-------------+-------------+------------+\n",
      "|     TLC     |     FCM     |    CSN     |\n",
      "+-------------+-------------+------------+\n",
      "| 42.46+-0.05 | 15.47+-0.00 | 6.65+-0.05 |\n",
      "+-------------+-------------+------------+\n",
      "***************ncs***************\n",
      "+-------------+-------------+------------+\n",
      "|     TLC     |     FCM     |    CSN     |\n",
      "+-------------+-------------+------------+\n",
      "| 39.49+-0.22 | 18.07+-0.46 | 6.66+-0.51 |\n",
      "+-------------+-------------+------------+\n",
      "-------------Significant Testing---------------\n",
      "TLC and FCM, t-test:pvalue is 1.760183432855342e-05, WMW-test: pvalue is 5.704414800690389e-05\n",
      "TLC and CSN, t-test:pvalue is 7.644430365138481e-08, WMW-test: pvalue is 3.3748749558581833e-06\n",
      "FCM and CSN, t-test:pvalue is 9.465307543672602e-10, WMW-test: pvalue is 3.3664279926465504e-06\n"
     ]
    }
   ],
   "source": [
    "get_all_datset_result(approaches , diff_datasets,get_bleu_dc)"
   ]
  },
  {
   "cell_type": "markdown",
   "metadata": {},
   "source": [
    "## corpus size"
   ]
  },
  {
   "cell_type": "code",
   "execution_count": 10,
   "metadata": {
    "ExecuteTime": {
     "end_time": "2021-11-13T14:04:49.566093Z",
     "start_time": "2021-11-13T14:04:49.556092Z"
    }
   },
   "outputs": [],
   "source": [
    "diff_datasets = [\"FCM_method_small\", \"FCM_method_medium\",\"FCM_method_large\",\"CSN_method_small\",\"CSN_method_medium\",]\n",
    "approaches = [\"codenn\",\"deepcom\", \"astattgru\", \"rencos\", \"ncs\" ]"
   ]
  },
  {
   "cell_type": "code",
   "execution_count": 11,
   "metadata": {
    "ExecuteTime": {
     "end_time": "2021-11-13T14:12:45.127661Z",
     "start_time": "2021-11-13T14:04:51.637536Z"
    }
   },
   "outputs": [
    {
     "name": "stdout",
     "output_type": "stream",
     "text": [
      "***************codenn***************\n",
      "+------------------+-------------------+------------------+------------------+-------------------+\n",
      "| FCM_method_small | FCM_method_medium | FCM_method_large | CSN_method_small | CSN_method_medium |\n",
      "+------------------+-------------------+------------------+------------------+-------------------+\n",
      "|   10.37+-0.17    |    14.76+-0.17    |   18.68+-0.26    |    5.20+-0.01    |    12.71+-0.23    |\n",
      "+------------------+-------------------+------------------+------------------+-------------------+\n",
      "***************deepcom***************\n",
      "+------------------+-------------------+------------------+------------------+-------------------+\n",
      "| FCM_method_small | FCM_method_medium | FCM_method_large | CSN_method_small | CSN_method_medium |\n",
      "+------------------+-------------------+------------------+------------------+-------------------+\n",
      "|    8.99+-0.06    |    10.87+-0.20    |   11.65+-0.36    |    7.57+-0.74    |     7.85+-1.07    |\n",
      "+------------------+-------------------+------------------+------------------+-------------------+\n",
      "***************astattgru***************\n",
      "+------------------+-------------------+------------------+------------------+-------------------+\n",
      "| FCM_method_small | FCM_method_medium | FCM_method_large | CSN_method_small | CSN_method_medium |\n",
      "+------------------+-------------------+------------------+------------------+-------------------+\n",
      "|   12.86+-0.64    |    18.15+-0.05    |   21.73+-0.11    |    5.89+-0.12    |    15.83+-0.17    |\n",
      "+------------------+-------------------+------------------+------------------+-------------------+\n",
      "***************rencos***************\n",
      "+------------------+-------------------+------------------+------------------+-------------------+\n",
      "| FCM_method_small | FCM_method_medium | FCM_method_large | CSN_method_small | CSN_method_medium |\n",
      "+------------------+-------------------+------------------+------------------+-------------------+\n",
      "|   14.24+-0.12    |    21.97+-0.08    |   23.81+-0.04    |    7.36+-0.08    |    19.56+-0.03    |\n",
      "+------------------+-------------------+------------------+------------------+-------------------+\n",
      "***************ncs***************\n",
      "+------------------+-------------------+------------------+------------------+-------------------+\n",
      "| FCM_method_small | FCM_method_medium | FCM_method_large | CSN_method_small | CSN_method_medium |\n",
      "+------------------+-------------------+------------------+------------------+-------------------+\n",
      "|   14.70+-0.19    |    23.10+-0.32    |   29.03+-0.32    |    9.07+-0.20    |    25.17+-0.39    |\n",
      "+------------------+-------------------+------------------+------------------+-------------------+\n",
      "-------------Significant Testing---------------\n",
      "FCM_method_small and FCM_method_medium, t-test:pvalue is 2.5365278975359017e-05, WMW-test: pvalue is 9.700571686015188e-05\n",
      "FCM_method_small and FCM_method_large, t-test:pvalue is 5.324286431491431e-07, WMW-test: pvalue is 3.644202729246209e-05\n",
      "FCM_method_medium and FCM_method_large, t-test:pvalue is 0.019358100123794166, WMW-test: pvalue is 0.040317110009233104\n",
      "CSN_method_small and CSN_method_medium, t-test:pvalue is 2.7294279467170325e-06, WMW-test: pvalue is 3.6584553538971e-05\n"
     ]
    }
   ],
   "source": [
    "get_all_datset_result(approaches , diff_datasets,get_bleu_dc)"
   ]
  },
  {
   "cell_type": "markdown",
   "metadata": {},
   "source": [
    "## data splitting way"
   ]
  },
  {
   "cell_type": "code",
   "execution_count": 12,
   "metadata": {
    "ExecuteTime": {
     "end_time": "2021-11-13T09:14:24.369868Z",
     "start_time": "2021-11-13T09:14:24.357776Z"
    }
   },
   "outputs": [],
   "source": [
    "diff_datasets = [\"CSN_project_medium\", \"CSN_class_medium\",\"CSN_method_medium\",\"FCM_project_large\",\"FCM_method_large\",]\n",
    "approaches = [\"codenn\",\"deepcom\", \"astattgru\", \"rencos\", \"ncs\" ]"
   ]
  },
  {
   "cell_type": "code",
   "execution_count": 13,
   "metadata": {
    "ExecuteTime": {
     "end_time": "2021-11-13T09:20:51.004062Z",
     "start_time": "2021-11-13T09:14:24.372780Z"
    }
   },
   "outputs": [
    {
     "name": "stdout",
     "output_type": "stream",
     "text": [
      "***************codenn***************\n",
      "+--------------------+------------------+-------------------+-------------------+------------------+\n",
      "| CSN_project_medium | CSN_class_medium | CSN_method_medium | FCM_project_large | FCM_method_large |\n",
      "+--------------------+------------------+-------------------+-------------------+------------------+\n",
      "|     3.32+-0.09     |    9.57+-0.15    |    12.71+-0.23    |    12.64+-0.13    |   18.68+-0.26    |\n",
      "+--------------------+------------------+-------------------+-------------------+------------------+\n",
      "***************deepcom***************\n",
      "+--------------------+------------------+-------------------+-------------------+------------------+\n",
      "| CSN_project_medium | CSN_class_medium | CSN_method_medium | FCM_project_large | FCM_method_large |\n",
      "+--------------------+------------------+-------------------+-------------------+------------------+\n",
      "|     1.98+-0.30     |    6.14+-0.12    |     7.85+-1.07    |     9.12+-0.03    |   11.65+-0.36    |\n",
      "+--------------------+------------------+-------------------+-------------------+------------------+\n",
      "***************astattgru***************\n",
      "+--------------------+------------------+-------------------+-------------------+------------------+\n",
      "| CSN_project_medium | CSN_class_medium | CSN_method_medium | FCM_project_large | FCM_method_large |\n",
      "+--------------------+------------------+-------------------+-------------------+------------------+\n",
      "|     6.86+-3.07     |   11.72+-0.41    |    15.83+-0.17    |    15.58+-0.11    |   21.73+-0.11    |\n",
      "+--------------------+------------------+-------------------+-------------------+------------------+\n",
      "***************rencos***************\n",
      "+--------------------+------------------+-------------------+-------------------+------------------+\n",
      "| CSN_project_medium | CSN_class_medium | CSN_method_medium | FCM_project_large | FCM_method_large |\n",
      "+--------------------+------------------+-------------------+-------------------+------------------+\n",
      "|     6.65+-0.05     |   14.37+-0.03    |    19.56+-0.03    |    15.47+-0.00    |   23.81+-0.04    |\n",
      "+--------------------+------------------+-------------------+-------------------+------------------+\n",
      "***************ncs***************\n",
      "+--------------------+------------------+-------------------+-------------------+------------------+\n",
      "| CSN_project_medium | CSN_class_medium | CSN_method_medium | FCM_project_large | FCM_method_large |\n",
      "+--------------------+------------------+-------------------+-------------------+------------------+\n",
      "|     6.66+-0.51     |   17.96+-0.23    |    25.17+-0.39    |    18.07+-0.46    |   29.03+-0.32    |\n",
      "+--------------------+------------------+-------------------+-------------------+------------------+\n",
      "-------------Significant Testing---------------\n",
      "CSN_project_medium and CSN_class_medium, t-test:pvalue is 1.4975365629934437e-05, WMW-test: pvalue is 0.0002228932910846752\n",
      "CSN_project_medium and CSN_method_medium, t-test:pvalue is 3.4412080184478173e-06, WMW-test: pvalue is 7.477207640048691e-06\n",
      "CSN_class_medium and CSN_method_medium, t-test:pvalue is 0.03494834103919861, WMW-test: pvalue is 0.042110616791807005\n",
      "FCM_project_large and FCM_method_large, t-test:pvalue is 0.0008000612334242778, WMW-test: pvalue is 0.002137709756321313\n"
     ]
    }
   ],
   "source": [
    "get_all_datset_result(approaches , diff_datasets,get_bleu_dc)"
   ]
  },
  {
   "cell_type": "markdown",
   "metadata": {},
   "source": [
    "## duplication ratio"
   ]
  },
  {
   "cell_type": "code",
   "execution_count": 14,
   "metadata": {
    "ExecuteTime": {
     "end_time": "2021-08-28T16:10:06.983676Z",
     "start_time": "2021-08-28T16:10:06.978027Z"
    }
   },
   "outputs": [],
   "source": [
    "def get_dup_ratio(approaches ,get_bleu_score,dup_ratios=[0,1,3,5,7,9]):\n",
    "    scores = {}\n",
    "    diff_dataset=\"TLC_diff_dup\"\n",
    "    for approach in approaches:\n",
    "        scores_diff_dup_ratio = {}\n",
    "        for dup_ratio in dup_ratios: \n",
    "            refs_filename = os.path.join(diff_dataset, approach, \"0%s\"%dup_ratio, \"test.gold\")\n",
    "            preds_filename = os.path.join(diff_dataset,approach, \"0%s\"%dup_ratio, \"test.pred\")\n",
    "            refs = read_to_list(refs_filename)\n",
    "            refs = [[t] for t in refs]\n",
    "            preds = read_to_list(preds_filename)\n",
    "            bleu_s = get_bleu_score(refs, preds)\n",
    "            scores_diff_dup_ratio[\"0.\"+ str(dup_ratio)] = \"%.2f \"%(bleu_s)\n",
    "        print(30*\"*\")\n",
    "        print(approach)\n",
    "        show_dict(scores_diff_dup_ratio)\n",
    "\n"
   ]
  },
  {
   "cell_type": "code",
   "execution_count": 15,
   "metadata": {
    "ExecuteTime": {
     "end_time": "2021-08-28T16:10:06.993770Z",
     "start_time": "2021-08-28T16:10:06.985310Z"
    }
   },
   "outputs": [],
   "source": [
    "approaches = [\"codenn\",\"deepcom\", \"astattgru\", \"rencos\", \"ncs\" ]"
   ]
  },
  {
   "cell_type": "code",
   "execution_count": 16,
   "metadata": {
    "ExecuteTime": {
     "end_time": "2021-08-28T16:11:28.845938Z",
     "start_time": "2021-08-28T16:10:06.995701Z"
    }
   },
   "outputs": [
    {
     "name": "stdout",
     "output_type": "stream",
     "text": [
      "******************************\n",
      "codenn\n",
      "+-------+-------+--------+--------+--------+--------+\n",
      "|  0.0  |  0.1  |  0.3   |  0.5   |  0.7   |  0.9   |\n",
      "+-------+-------+--------+--------+--------+--------+\n",
      "| 7.34  | 9.10  | 12.92  | 17.12  | 20.85  | 24.75  |\n",
      "+-------+-------+--------+--------+--------+--------+\n",
      "******************************\n",
      "deepcom\n",
      "+-------+-------+--------+--------+--------+--------+\n",
      "|  0.0  |  0.1  |  0.3   |  0.5   |  0.7   |  0.9   |\n",
      "+-------+-------+--------+--------+--------+--------+\n",
      "| 5.83  | 7.65  | 11.17  | 14.69  | 18.15  | 22.23  |\n",
      "+-------+-------+--------+--------+--------+--------+\n",
      "******************************\n",
      "astattgru\n",
      "+-------+--------+--------+--------+--------+--------+\n",
      "|  0.0  |  0.1   |  0.3   |  0.5   |  0.7   |  0.9   |\n",
      "+-------+--------+--------+--------+--------+--------+\n",
      "| 6.62  | 10.19  | 17.45  | 24.47  | 31.92  | 39.06  |\n",
      "+-------+--------+--------+--------+--------+--------+\n",
      "******************************\n",
      "rencos\n",
      "+--------+--------+--------+--------+--------+--------+\n",
      "|  0.0   |  0.1   |  0.3   |  0.5   |  0.7   |  0.9   |\n",
      "+--------+--------+--------+--------+--------+--------+\n",
      "| 24.21  | 31.66  | 46.47  | 61.28  | 76.07  | 90.91  |\n",
      "+--------+--------+--------+--------+--------+--------+\n",
      "******************************\n",
      "ncs\n",
      "+--------+--------+--------+--------+--------+--------+\n",
      "|  0.0   |  0.1   |  0.3   |  0.5   |  0.7   |  0.9   |\n",
      "+--------+--------+--------+--------+--------+--------+\n",
      "| 13.67  | 20.24  | 28.76  | 37.60  | 45.77  | 55.12  |\n",
      "+--------+--------+--------+--------+--------+--------+\n"
     ]
    }
   ],
   "source": [
    "get_dup_ratio(approaches ,get_bleu_dc)"
   ]
  },
  {
   "cell_type": "code",
   "execution_count": 1,
   "metadata": {
    "ExecuteTime": {
     "end_time": "2021-09-04T07:36:52.395744Z",
     "start_time": "2021-09-04T07:36:52.382744Z"
    }
   },
   "outputs": [],
   "source": [
    "codenn = [7.34, 9.1, 12.92, 17.12, 20.85, 24.75]\n",
    "deepcom = [5.83, 7.65, 11.17, 14.69, 18.15, 22.23]\n",
    "astattgru=[6.62, 10.19, 17.45, 24.47, 31.92, 39.06]\n",
    "rencos = [24.21, 31.66, 46.47, 61.28, 76.07, 90.91]\n",
    "ncs = [13.67, 20.24, 28.76, 37.6, 45.77, 55.12]"
   ]
  },
  {
   "cell_type": "code",
   "execution_count": 7,
   "metadata": {
    "ExecuteTime": {
     "end_time": "2021-09-04T07:47:53.150374Z",
     "start_time": "2021-09-04T07:47:52.790336Z"
    }
   },
   "outputs": [
    {
     "data": {
      "image/png": "[encoded data removed]",
      "text/plain": [
       "<Figure size 720x288 with 1 Axes>"
      ]
     },
     "metadata": {
      "needs_background": "light"
     },
     "output_type": "display_data"
    }
   ],
   "source": [
    "import matplotlib.pyplot as plt\n",
    "import numpy as np\n",
    "import math\n",
    "import os\n",
    "\n",
    "\n",
    "x = [0, 0.1, 0.3, 0.5, 0.7, 0.9]\n",
    "codenn_lable = '$CodeNN$'\n",
    "deppcom_lable= '$Deepcom$'\n",
    "astattgru_label = '$Astattgru$'\n",
    "rencos_lable = \"$Rencos$\"\n",
    "ncs_lable = \"$NCS$\"\n",
    "plt.rc('text', usetex = False)\n",
    "plt.figure(figsize=(10,4))\n",
    "width = 0.18\n",
    "x = [0, 0.1, 0.3, 0.5, 0.7, 0.9]\n",
    "index = np.arange(len(x))\n",
    "r1 = plt.bar(index,codenn,width,color='lightgray',label=codenn_lable)\n",
    "r2 = plt.bar(index+width,deepcom,width,color='antiquewhite',label=deppcom_lable)\n",
    "r3 = plt.bar(index+width+width, astattgru,width,color='wheat',label=astattgru_label)\n",
    "r4 = plt.bar(index+width+width+width,rencos,width, color='tan',label=rencos_lable)\n",
    "r5 = plt.bar(index+width+width+width+width,ncs,width,color='orange',label=ncs_lable)\n",
    "\n",
    "plt.xticks(index+width+width ,x, fontsize=20)\n",
    "plt.yticks(fontsize=20)\n",
    "plt.ylim( ymax=100)\n",
    "plt.legend(fontsize=15, ncol=1, loc='upper left')\n",
    "# plt.legend()\n",
    "plt.xlabel(\"Duplication ratio\", fontsize=20)\n",
    "plt.ylabel(\"BLEU-DC\", fontsize=20)\n",
    "plt.savefig('diff_dup_ratio_bleu_dc.pdf', format='pdf', dpi=1000, bbox_inches = 'tight',pad_inches=0.1)\n",
    "plt.show()"
   ]
  },
  {
   "cell_type": "code",
   "execution_count": null,
   "metadata": {},
   "outputs": [],
   "source": []
  },
  {
   "cell_type": "code",
   "execution_count": null,
   "metadata": {},
   "outputs": [],
   "source": []
  }
 ],
 "metadata": {
  "kernelspec": {
   "display_name": "Python 3",
   "language": "python",
   "name": "python3"
  },
  "language_info": {
   "codemirror_mode": {
    "name": "ipython",
    "version": 3
   },
   "file_extension": ".py",
   "mimetype": "text/x-python",
   "name": "python",
   "nbconvert_exporter": "python",
   "pygments_lexer": "ipython3",
   "version": "3.8.3"
  },
  "toc": {
   "base_numbering": 1,
   "nav_menu": {},
   "number_sections": true,
   "sideBar": true,
   "skip_h1_title": false,
   "title_cell": "Table of Contents",
   "title_sidebar": "Contents",
   "toc_cell": false,
   "toc_position": {
    "height": "calc(100% - 180px)",
    "left": "10px",
    "top": "150px",
    "width": "304.475px"
   },
   "toc_section_display": true,
   "toc_window_display": true
  }
 },
 "nbformat": 4,
 "nbformat_minor": 5
}
